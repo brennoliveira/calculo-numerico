{
  "nbformat": 4,
  "nbformat_minor": 0,
  "metadata": {
    "colab": {
      "provenance": [],
      "include_colab_link": true
    },
    "kernelspec": {
      "name": "python3",
      "display_name": "Python 3"
    },
    "language_info": {
      "name": "python"
    }
  },
  "cells": [
    {
      "cell_type": "markdown",
      "metadata": {
        "id": "view-in-github",
        "colab_type": "text"
      },
      "source": [
        "<a href=\"https://colab.research.google.com/github/brennoliveira/calculo-numerico/blob/main/sistemas.ipynb\" target=\"_parent\"><img src=\"https://colab.research.google.com/assets/colab-badge.svg\" alt=\"Open In Colab\"/></a>"
      ]
    },
    {
      "cell_type": "code",
      "execution_count": 82,
      "metadata": {
        "id": "vV7HTdx6qC0R"
      },
      "outputs": [],
      "source": [
        "import math\n",
        "import numpy as np\n",
        "variaveis = ['x', 'y', 'z', 'w']\n"
      ]
    },
    {
      "cell_type": "markdown",
      "source": [
        "#Método de Cramer"
      ],
      "metadata": {
        "id": "wu_mplFK1M1a"
      }
    },
    {
      "cell_type": "code",
      "source": [
        "def print_cramer(x):\n",
        "  print(\"Valores finais Cramer: \", end='')\n",
        "  for i in range(len(x)):\n",
        "    print(f\"{variaveis[i]} = {x[1]} | \", end='')\n",
        "  print('')\n",
        "\n",
        "def cramer(D, b):\n",
        "  \"\"\"\n",
        "  D -> coeficientes das equações\n",
        "  b -> valores das igualdades das equações\n",
        "  \"\"\"\n",
        "  # Verifica tamanho do sistema\n",
        "  n = len(D)\n",
        "  # Calcula o Determinante de D\n",
        "  detD = np.linalg.det(D)\n",
        "  print(f\"D = {detD}\")\n",
        "  x = np.zeros(n)\n",
        "  for i in range(n):\n",
        "    # Cria matriz Dx\n",
        "    Dx = D.copy()\n",
        "    # Substitui valores da coluna pelos valores das igualdades\n",
        "    Dx[:, i] = b\n",
        "    # Calcula o Determinante de Dx\n",
        "    detDx = np.linalg.det(Dx)\n",
        "    # Adiciona no vetor resposta\n",
        "    x[i] = detDx / detD\n",
        "  print_cramer(x)\n",
        "  return x"
      ],
      "metadata": {
        "id": "T-5ERL-DsBCF"
      },
      "execution_count": 128,
      "outputs": []
    },
    {
      "cell_type": "code",
      "source": [
        "D = np.array([[10,2,1], \n",
        "              [1,5,1], \n",
        "              [2,3,10]])\n",
        "\n",
        "b = np.array([7,-8,6])\n",
        "\n",
        "cramer(D, b)"
      ],
      "metadata": {
        "id": "cGQOcZq6nUaX",
        "outputId": "1b461cc4-ba87-4bc7-9590-e113c118d2f2",
        "colab": {
          "base_uri": "https://localhost:8080/"
        }
      },
      "execution_count": 87,
      "outputs": [
        {
          "output_type": "stream",
          "name": "stdout",
          "text": [
            "D = 447.00000000000017\n",
            "Valores finais: x = -2.0000000000000004 | y = -2.0000000000000004 | z = -2.0000000000000004 | \n"
          ]
        },
        {
          "output_type": "execute_result",
          "data": {
            "text/plain": [
              "array([ 1., -2.,  1.])"
            ]
          },
          "metadata": {},
          "execution_count": 87
        }
      ]
    },
    {
      "cell_type": "markdown",
      "source": [
        "#Método Iterativo de Gauss-Jacobi\n",
        "##(sistemas lineares)"
      ],
      "metadata": {
        "id": "SeEOqW4x1QJ3"
      }
    },
    {
      "cell_type": "code",
      "source": [
        "def print_gauss(it,x_new):\n",
        "  print(f\"{it}ª iteração: \", end=\"\")\n",
        "  for i in range(len(x_new)):\n",
        "    print(f\"{variaveis[i]}{it} = {x_new[i]} | \", end='')\n",
        "  print('')\n",
        "def gauss_jacobi(C, b, x0, prec=1e-6):\n",
        "  \"\"\"\n",
        "    C    -> coeficientes das equações\n",
        "    b    -> valores das igualdades das equações\n",
        "    x0   -> chute inicial\n",
        "    prec -> precisão\n",
        "  \"\"\"\n",
        "  n = len(C)\n",
        "  x = x0\n",
        "  diff = prec + 1\n",
        "  x_new = np.zeros(n)\n",
        "  i = 0\n",
        "  while diff > prec:\n",
        "    # loop dos novos resultados\n",
        "    for i in range(n):\n",
        "      s = 0\n",
        "      # loop de cada variável\n",
        "      for j in range(n):\n",
        "        if i != j:\n",
        "          # valores transferidos de um lado pro outro da equação\n",
        "          s += C[i][j] * x[j]\n",
        "      # novo resultado de cada variável\n",
        "      x_new[i] = (b[i] - s) / C[i][i]\n",
        "      diff = np.linalg.norm(x_new - x)\n",
        "      i += 1\n",
        "      print_gauss(i, x_new)\n",
        "    return x_new"
      ],
      "metadata": {
        "id": "QKPe2-LL1O4h"
      },
      "execution_count": 139,
      "outputs": []
    },
    {
      "cell_type": "code",
      "source": [
        "C = np.array([[10,2,1], \n",
        "              [1,5,1], \n",
        "              [2,3,10]])\n",
        "\n",
        "b = np.array([7,-8,6])\n",
        "x0 = np.array([0.7,-1.6,0.6])\n",
        "gauss_jacobi(C, b, x0)"
      ],
      "metadata": {
        "id": "lKRORU2N6LD-",
        "outputId": "76218412-3ba1-4934-888f-040cdd9e5f07",
        "colab": {
          "base_uri": "https://localhost:8080/"
        }
      },
      "execution_count": 89,
      "outputs": [
        {
          "output_type": "stream",
          "name": "stdout",
          "text": [
            "1ª iteração: x1 = 0.96 | x2 = 0.0 | x3 = 0.0 | \n",
            "2ª iteração: x1 = 0.96 | x2 = -1.86 | x3 = 0.0 | \n",
            "3ª iteração: x1 = 0.96 | x2 = -1.86 | x3 = 0.9400000000000001 | \n"
          ]
        },
        {
          "output_type": "execute_result",
          "data": {
            "text/plain": [
              "array([ 0.96, -1.86,  0.94])"
            ]
          },
          "metadata": {},
          "execution_count": 89
        }
      ]
    },
    {
      "cell_type": "markdown",
      "source": [
        "# Método Iterativo de Newton\n"
      ],
      "metadata": {
        "id": "87bfn2pAuz3f"
      }
    },
    {
      "cell_type": "code",
      "source": [
        "def print_newton(it,var, fv):\n",
        "  print(f\"-=-=-= {it}ª iteração: -=-=-=\")\n",
        "  print(f\"f1({var[0], var[1]}) = {fv[0]}\")\n",
        "  print(f\"f2({var[0], var[1]}) = {fv[1]}\")\n",
        "  for i in range(len(var)):\n",
        "    print(f\"{variaveis[i]}{it} = {var[i]} | \", end='')\n",
        "  print('')\n",
        "\n",
        "def iterativo_newton(f, J, x0, prec=1e-6):\n",
        "  var = x0\n",
        "  i = 0\n",
        "  while True:\n",
        "    fv = f(var)\n",
        "    Jv = J(var)\n",
        "    print('-='*20)\n",
        "    xi = cramer(Jv, -fv)\n",
        "    var += xi\n",
        "    i += 1\n",
        "    print_newton(i, var, fv)  \n",
        "    if np.linalg.norm(xi) < prec:\n",
        "      break\n",
        "  return var\n"
      ],
      "metadata": {
        "id": "vn2ElpPCu2vm"
      },
      "execution_count": 147,
      "outputs": []
    },
    {
      "cell_type": "code",
      "source": [
        "def f(var):\n",
        "  f1 = var[0]**2 + var[1]**2 - 1\n",
        "  f2 = var[0] - var[1] - 1\n",
        "  return np.array([f1, f2])\n",
        "\n",
        "def J(var):\n",
        "  j11 = 2*var[0]\n",
        "  j12 = 2*var[1]\n",
        "  j21 = 1\n",
        "  j22 = -1\n",
        "  return np.array([[j11,j12], [j21,j22]])"
      ],
      "metadata": {
        "id": "G2_he1lO0TWN"
      },
      "execution_count": 120,
      "outputs": []
    },
    {
      "cell_type": "code",
      "source": [
        "x0 = np.array([0.5,0.5])\n",
        "x = iterativo_newton(f,J,x0)\n",
        "\n",
        "print('-='*20)\n",
        "\n",
        "print(f\"valores finais: {x}\")"
      ],
      "metadata": {
        "id": "0eNu9ndj2r6T",
        "outputId": "f5222129-1ef3-4811-d7d5-f0083d356d7e",
        "colab": {
          "base_uri": "https://localhost:8080/"
        }
      },
      "execution_count": 149,
      "outputs": [
        {
          "output_type": "stream",
          "name": "stdout",
          "text": [
            "-=-=-=-=-=-=-=-=-=-=-=-=-=-=-=-=-=-=-=-=\n",
            "D = -2.0\n",
            "Valores finais Cramer: x = -0.25 | y = -0.25 | \n",
            "-=-=-= 1ª iteração: -=-=-=\n",
            "f1((1.25, 0.25)) = -0.5\n",
            "f2((1.25, 0.25)) = -1.0\n",
            "x1 = 1.25 | y1 = 0.25 | \n",
            "-=-=-=-=-=-=-=-=-=-=-=-=-=-=-=-=-=-=-=-=\n",
            "D = -3.0000000000000004\n",
            "Valores finais Cramer: x = -0.20833333333333331 | y = -0.20833333333333331 | \n",
            "-=-=-= 2ª iteração: -=-=-=\n",
            "f1((1.0416666666666667, 0.041666666666666685)) = 0.625\n",
            "f2((1.0416666666666667, 0.041666666666666685)) = 0.0\n",
            "x2 = 1.0416666666666667 | y2 = 0.041666666666666685 | \n",
            "-=-=-=-=-=-=-=-=-=-=-=-=-=-=-=-=-=-=-=-=\n",
            "D = -2.166666666666667\n",
            "Valores finais Cramer: x = -0.040064102564102685 | y = -0.040064102564102685 | \n",
            "-=-=-= 3ª iteração: -=-=-=\n",
            "f1((1.001602564102564, 0.0016025641025639997)) = 0.0868055555555558\n",
            "f2((1.001602564102564, 0.0016025641025639997)) = 0.0\n",
            "x3 = 1.001602564102564 | y3 = 0.0016025641025639997 | \n",
            "-=-=-=-=-=-=-=-=-=-=-=-=-=-=-=-=-=-=-=-=\n",
            "D = -2.0064102564102564\n",
            "Valores finais Cramer: x = -0.0016000040960105115 | y = -0.0016000040960105115 | \n",
            "-=-=-= 4ª iteração: -=-=-=\n",
            "f1((1.0000025600065536, 2.5600065534881963e-06)) = 0.00321026462853391\n",
            "f2((1.0000025600065536, 2.5600065534881963e-06)) = 0.0\n",
            "x4 = 1.0000025600065536 | y4 = 2.5600065534881963e-06 | \n",
            "-=-=-=-=-=-=-=-=-=-=-=-=-=-=-=-=-=-=-=-=\n",
            "D = -2.000010240026214\n",
            "Valores finais Cramer: x = -2.559999999822226e-06 | y = -2.559999999822226e-06 | \n",
            "-=-=-= 5ª iteração: -=-=-=\n",
            "f1((1.0000000000065536, 6.553665970285581e-12)) = 5.120026214555651e-06\n",
            "f2((1.0000000000065536, 6.553665970285581e-12)) = 2.220446049250313e-16\n",
            "x5 = 1.0000000000065536 | y5 = 6.553665970285581e-12 | \n",
            "-=-=-=-=-=-=-=-=-=-=-=-=-=-=-=-=-=-=-=-=\n",
            "D = -2.0000000000262146\n",
            "Valores finais Cramer: x = -6.553646514276395e-12 | y = -6.553646514276395e-12 | \n",
            "-=-=-= 6ª iteração: -=-=-=\n",
            "f1((1.0, 1.9456009185956735e-17)) = 1.3107293028724598e-11\n",
            "f2((1.0, 1.9456009185956735e-17)) = 0.0\n",
            "x6 = 1.0 | y6 = 1.9456009185956735e-17 | \n",
            "-=-=-=-=-=-=-=-=-=-=-=-=-=-=-=-=-=-=-=-=\n",
            "valores finais: [1.00000000e+00 1.94560092e-17]\n"
          ]
        }
      ]
    }
  ]
}