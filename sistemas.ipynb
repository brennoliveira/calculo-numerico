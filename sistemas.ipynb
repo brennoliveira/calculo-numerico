{
  "nbformat": 4,
  "nbformat_minor": 0,
  "metadata": {
    "colab": {
      "provenance": [],
      "include_colab_link": true
    },
    "kernelspec": {
      "name": "python3",
      "display_name": "Python 3"
    },
    "language_info": {
      "name": "python"
    }
  },
  "cells": [
    {
      "cell_type": "markdown",
      "metadata": {
        "id": "view-in-github",
        "colab_type": "text"
      },
      "source": [
        "<a href=\"https://colab.research.google.com/github/brennoliveira/calculo-numerico/blob/main/sistemas.ipynb\" target=\"_parent\"><img src=\"https://colab.research.google.com/assets/colab-badge.svg\" alt=\"Open In Colab\"/></a>"
      ]
    },
    {
      "cell_type": "code",
      "execution_count": 2,
      "metadata": {
        "id": "vV7HTdx6qC0R"
      },
      "outputs": [],
      "source": [
        "import math\n",
        "import numpy as np\n",
        "variaveis = ['x', 'y', 'z', 'w']\n"
      ]
    },
    {
      "cell_type": "markdown",
      "source": [
        "#Método de Cramer"
      ],
      "metadata": {
        "id": "wu_mplFK1M1a"
      }
    },
    {
      "cell_type": "code",
      "source": [
        "def print_cramer(x):\n",
        "  print(\"Valores finais Cramer: \", end='')\n",
        "  for i in range(len(x)):\n",
        "    print(f\"{variaveis[i]} = {x[1]} | \", end='')\n",
        "  print('')\n",
        "\n",
        "def cramer(D, b):\n",
        "  \"\"\"\n",
        "  D -> coeficientes das equações\n",
        "  b -> valores das igualdades das equações\n",
        "  \"\"\"\n",
        "  # Verifica tamanho do sistema\n",
        "  n = len(D)\n",
        "  # Calcula o Determinante de D\n",
        "  detD = np.linalg.det(D)\n",
        "  print(f\"D = {detD}\")\n",
        "  x = np.zeros(n, dtype=float)\n",
        "  for i in range(n):\n",
        "    # Cria matriz Dx\n",
        "    Dx = D.copy()\n",
        "    # Substitui valores da coluna pelos valores das igualdades\n",
        "    Dx[:, i] = b\n",
        "    # Calcula o Determinante de Dx\n",
        "    detDx = np.linalg.det(Dx)\n",
        "    print(f\"D{variaveis[i]} = {detDx}\")\n",
        "    # Adiciona no vetor resposta\n",
        "    x[i] = detDx / detD\n",
        "  print_cramer(x)\n",
        "  return x"
      ],
      "metadata": {
        "id": "T-5ERL-DsBCF"
      },
      "execution_count": 18,
      "outputs": []
    },
    {
      "cell_type": "code",
      "source": [
        "D = np.array([[11.2, 21, 2.75], \n",
        "              [34.6, 16.7, 7], \n",
        "              [25.2 , 12.3, 71]])\n",
        "\n",
        "b = np.array([27 , 56, 81])\n",
        "\n",
        "cramer(D, b)"
      ],
      "metadata": {
        "id": "cGQOcZq6nUaX",
        "outputId": "52c591fb-b9be-46cf-89f8-094423133b74",
        "colab": {
          "base_uri": "https://localhost:8080/"
        }
      },
      "execution_count": 4,
      "outputs": [
        {
          "output_type": "stream",
          "name": "stdout",
          "text": [
            "D = -35555.645000000004\n",
            "Valores finais Cramer: x = 0.5500743974690945 | y = 0.5500743974690945 | z = 0.5500743974690945 | \n"
          ]
        },
        {
          "output_type": "execute_result",
          "data": {
            "text/plain": [
              "array([1.2297773 , 0.5500744 , 0.60906616])"
            ]
          },
          "metadata": {},
          "execution_count": 4
        }
      ]
    },
    {
      "cell_type": "markdown",
      "source": [
        "#Método Iterativo de Gauss-Jacobi\n",
        "##(sistemas lineares)"
      ],
      "metadata": {
        "id": "SeEOqW4x1QJ3"
      }
    },
    {
      "cell_type": "code",
      "source": [
        "def print_gauss(it,x_new):\n",
        "  print(f\"{it}ª iteração: \", end=\"\")\n",
        "  for i in range(len(x_new)):\n",
        "    print(f\"{variaveis[i]}{it} = {x_new[i]} | \", end='')\n",
        "  print('')\n",
        "def gauss_jacobi(C, b, x0, prec=1e-50):\n",
        "  \"\"\"\n",
        "    C    -> coeficientes das equações\n",
        "    b    -> valores das igualdades das equações\n",
        "    x0   -> chute inicial\n",
        "    prec -> precisão\n",
        "  \"\"\"\n",
        "  n = len(C)\n",
        "  x = x0\n",
        "  diff = prec + 1\n",
        "  x_new = np.zeros(n)\n",
        "  i = 0\n",
        "  while diff > prec:\n",
        "    # loop dos novos resultados\n",
        "    for i in range(n):\n",
        "      s = 0\n",
        "      # loop de cada variável\n",
        "      for j in range(n):\n",
        "        if i != j:\n",
        "          # valores transferidos de um lado pro outro da equação\n",
        "          s += C[i][j] * x[j]\n",
        "      # novo resultado de cada variável\n",
        "      x_new[i] = (b[i] - s) / C[i][i]\n",
        "      diff = np.linalg.norm(x_new - x)\n",
        "      i += 1\n",
        "      # print_gauss(i, x_new)\n",
        "    return x_new"
      ],
      "metadata": {
        "id": "QKPe2-LL1O4h"
      },
      "execution_count": 5,
      "outputs": []
    },
    {
      "cell_type": "code",
      "source": [
        "C = np.array([[11.2, 21, 2.75], \n",
        "              [34.6, 16.7, 7], \n",
        "              [25.2 , 12.3, 71]])\n",
        "\n",
        "b = np.array([27 , 56, 81])\n",
        "x0 = np.array([1,0,0])\n",
        "gauss_jacobi(C, b, x0)"
      ],
      "metadata": {
        "id": "lKRORU2N6LD-",
        "outputId": "4aaafb97-970c-43b7-b614-06b27262987d",
        "colab": {
          "base_uri": "https://localhost:8080/"
        }
      },
      "execution_count": 6,
      "outputs": [
        {
          "output_type": "execute_result",
          "data": {
            "text/plain": [
              "array([2.41071429, 1.28143713, 0.78591549])"
            ]
          },
          "metadata": {},
          "execution_count": 6
        }
      ]
    },
    {
      "cell_type": "markdown",
      "source": [
        "# Método Iterativo de Newton\n"
      ],
      "metadata": {
        "id": "87bfn2pAuz3f"
      }
    },
    {
      "cell_type": "code",
      "source": [
        "def print_newton(it,var, fv):\n",
        "  print(f\"-=-=-= {it}ª iteração: -=-=-=\")\n",
        "  for i in range(len(fv)):\n",
        "    print(f\"f{i+1}({var}) = {fv[i]}\")\n",
        "  for i in range(len(var)):\n",
        "    print(f\"{variaveis[i]}{it} = {var[i]} | \", end='')\n",
        "  print('')\n",
        "\n",
        "def iterativo_newton(f, J, x0, prec=0.1):\n",
        "  \"\"\"\n",
        "  f    -> funções do sistema\n",
        "  J    -> matriz Jacobiana (derivadas parciais)\n",
        "  x0   -> chute inicial\n",
        "  prec -> precisão\n",
        "  \"\"\"\n",
        "  \n",
        "  var = x0.copy()\n",
        "\n",
        "  i = 1\n",
        "  while True:\n",
        "    # Retorna o valor das funções\n",
        "    fv = f(var)\n",
        "    Jv = J(var)\n",
        "    \n",
        "    print_newton(i, var, fv)  \n",
        "    print('-='*20)\n",
        "    # Resolve sistema linear pelo método de Cramer\n",
        "    sxi = cramer(Jv, -fv)\n",
        "    # Incrementa o valor da Solução (Cramer) ao valor já obtido para gerar o novo valor\n",
        "    var += sxi\n",
        "    print('-='*20)\n",
        "    print(f\"S{i} = {var}\")\n",
        "    print('')\n",
        "    i += 1\n",
        "    # Verificação de parada\n",
        "    if np.linalg.norm(sxi) < prec:\n",
        "      print_newton(i, var, fv)  \n",
        "      break\n",
        "  return var\n"
      ],
      "metadata": {
        "id": "vn2ElpPCu2vm"
      },
      "execution_count": 44,
      "outputs": []
    },
    {
      "cell_type": "code",
      "source": [
        "def f(var):\n",
        "  f1 = (var[0]**4 + 0.06823 * var[0]) - (var[1]**4 + 0.05848 * var[1]) - 0.01509\n",
        "  f2 = (var[0]**4 + 0.5848 * var[0]) - (2 * var[1] ** 4 + 0.11696 * var[1])\n",
        "  return np.array([f1, f2], dtype=float)\n",
        "\n",
        "def J(var):\n",
        "  j11 = 4 * var[0]**3 + 0.06823\n",
        "  j12 = 4 * var[1]**3 + 0.5848\n",
        "  j21 = 4 * var[0]**3 + 0.5848\n",
        "  j22 = 8 * var[1]**3 + 0.11696\n",
        "  return np.array([[j11,j12], [j21,j22]], dtype=float)"
      ],
      "metadata": {
        "id": "G2_he1lO0TWN"
      },
      "execution_count": 14,
      "outputs": []
    },
    {
      "cell_type": "code",
      "source": [
        "x0 = np.array([0.3,0.3], dtype=float)\n",
        "x = iterativo_newton(f,J,x0)\n",
        "\n",
        "print('-='*20)\n",
        "print()\n",
        "\n",
        "\n",
        "print(f\"valores finais: {x}\")"
      ],
      "metadata": {
        "id": "0eNu9ndj2r6T",
        "outputId": "46f037bd-3bfa-41aa-ec20-7fd0923df573",
        "colab": {
          "base_uri": "https://localhost:8080/"
        }
      },
      "execution_count": 42,
      "outputs": [
        {
          "output_type": "stream",
          "name": "stdout",
          "text": [
            "-=-=-= 1ª iteração: -=-=-=\n",
            "f1([0.3 0.3]) = -0.012164999999999999\n",
            "f2([0.3 0.3]) = 0.13225199999999998\n",
            "x1 = 0.3 | y1 = 0.3 | \n",
            "-=-=-=-=-=-=-=-=-=-=-=-=-=-=-=-=-=-=-=-=\n",
            "D = -0.4212942992\n",
            "Dx = 0.09567464399999996\n",
            "Dy = -0.031734681960000004\n",
            "Valores finais Cramer: x = 0.07532663513430235 | y = 0.07532663513430235 | \n",
            "-=-=-=-=-=-=-=-=-=-=-=-=-=-=-=-=-=-=-=-=\n",
            "S1 = [0.07290307 0.37532664]\n",
            "\n",
            "-=-=-= 2ª iteração: -=-=-=\n",
            "f1([0.07290307 0.37532664]) = -0.05188105807656162\n",
            "f2([0.07290307 0.37532664]) = -0.040925003608533427\n",
            "x2 = 0.07290306519296008 | y2 = 0.3753266351343023 | \n",
            "-=-=-=-=-=-=-=-=-=-=-=-=-=-=-=-=-=-=-=-=\n",
            "D = -0.42922722918961603\n",
            "Dx = -0.004575564338272575\n",
            "Dy = -0.02756471030862015\n",
            "Valores finais Cramer: x = 0.06421938878542843 | y = 0.06421938878542843 | \n",
            "-=-=-=-=-=-=-=-=-=-=-=-=-=-=-=-=-=-=-=-=\n",
            "S2 = [0.08356307 0.43954602]\n",
            "\n",
            "-=-=-= 3ª iteração: -=-=-=\n",
            "f1([0.08356307 0.43954602]) = -0.05188105807656162\n",
            "f2([0.08356307 0.43954602]) = -0.040925003608533427\n",
            "x3 = 0.08356307002748857 | y3 = 0.43954602391973074 | \n",
            "-=-=-=-=-=-=-=-=-=-=-=-=-=-=-=-=-=-=-=-=\n",
            "\n",
            "valores finais: [0.08356307 0.43954602]\n"
          ]
        }
      ]
    },
    {
      "cell_type": "code",
      "source": [
        "var = 0.4065\n",
        "\n",
        "fd = 2 * math.pi * var - math.pi * var**2\n",
        "\n",
        "f = (math.pi * var**2) - (1/3 * math.pi * var**3) - 0.5\n",
        "\n",
        "x= 2.75 - (1.479 / -6.476)\n",
        "\n",
        "print(x)"
      ],
      "metadata": {
        "id": "ZfvIS3_HXLMc",
        "outputId": "1025bffe-8492-4624-d3b9-66821cee0c2d",
        "colab": {
          "base_uri": "https://localhost:8080/"
        }
      },
      "execution_count": 10,
      "outputs": [
        {
          "output_type": "stream",
          "name": "stdout",
          "text": [
            "2.9783817171093268\n"
          ]
        }
      ]
    }
  ]
}