{
  "nbformat": 4,
  "nbformat_minor": 0,
  "metadata": {
    "colab": {
      "provenance": [],
      "include_colab_link": true
    },
    "kernelspec": {
      "name": "python3",
      "display_name": "Python 3"
    },
    "language_info": {
      "name": "python"
    }
  },
  "cells": [
    {
      "cell_type": "markdown",
      "metadata": {
        "id": "view-in-github",
        "colab_type": "text"
      },
      "source": [
        "<a href=\"https://colab.research.google.com/github/brennoliveira/calculo-numerico/blob/main/sistemas.ipynb\" target=\"_parent\"><img src=\"https://colab.research.google.com/assets/colab-badge.svg\" alt=\"Open In Colab\"/></a>"
      ]
    },
    {
      "cell_type": "code",
      "execution_count": 1,
      "metadata": {
        "id": "vV7HTdx6qC0R"
      },
      "outputs": [],
      "source": [
        "import math\n",
        "import numpy as np\n",
        "variaveis = ['x', 'y', 'z', 'w']\n"
      ]
    },
    {
      "cell_type": "markdown",
      "source": [
        "#Método de Cramer"
      ],
      "metadata": {
        "id": "wu_mplFK1M1a"
      }
    },
    {
      "cell_type": "code",
      "source": [
        "def print_cramer(x):\n",
        "  print(\"Valores finais Cramer: \", end='')\n",
        "  for i in range(len(x)):\n",
        "    print(f\"{variaveis[i]} = {x[1]} | \", end='')\n",
        "  print('')\n",
        "\n",
        "def cramer(D, b):\n",
        "  \"\"\"\n",
        "  D -> coeficientes das equações\n",
        "  b -> valores das igualdades das equações\n",
        "  \"\"\"\n",
        "  # Verifica tamanho do sistema\n",
        "  n = len(D)\n",
        "  # Calcula o Determinante de D\n",
        "  detD = np.linalg.det(D)\n",
        "  print(f\"D = {detD}\")\n",
        "  x = np.zeros(n, dtype=float)\n",
        "  for i in range(n):\n",
        "    # Cria matriz Dx\n",
        "    Dx = D.copy()\n",
        "    # Substitui valores da coluna pelos valores das igualdades\n",
        "    Dx[:, i] = b\n",
        "    # Calcula o Determinante de Dx\n",
        "    detDx = np.linalg.det(Dx)\n",
        "    # Adiciona no vetor resposta\n",
        "    x[i] = detDx / detD\n",
        "  print_cramer(x)\n",
        "  return x"
      ],
      "metadata": {
        "id": "T-5ERL-DsBCF"
      },
      "execution_count": 77,
      "outputs": []
    },
    {
      "cell_type": "code",
      "source": [
        "D = np.array([[11.2, 21, 2.75], \n",
        "              [34.6, 16.7, 7], \n",
        "              [25.2 , 12.3, 71]])\n",
        "\n",
        "b = np.array([27 , 56, 81])\n",
        "\n",
        "cramer(D, b)"
      ],
      "metadata": {
        "id": "cGQOcZq6nUaX",
        "outputId": "c44d692f-0bb3-4117-d802-b7c72c276d62",
        "colab": {
          "base_uri": "https://localhost:8080/"
        }
      },
      "execution_count": 38,
      "outputs": [
        {
          "output_type": "stream",
          "name": "stdout",
          "text": [
            "D = -35555.645000000004\n",
            "Valores finais Cramer: x = 0.5500743974690945 | y = 0.5500743974690945 | z = 0.5500743974690945 | \n"
          ]
        },
        {
          "output_type": "execute_result",
          "data": {
            "text/plain": [
              "array([1.2297773 , 0.5500744 , 0.60906616])"
            ]
          },
          "metadata": {},
          "execution_count": 38
        }
      ]
    },
    {
      "cell_type": "markdown",
      "source": [
        "#Método Iterativo de Gauss-Jacobi\n",
        "##(sistemas lineares)"
      ],
      "metadata": {
        "id": "SeEOqW4x1QJ3"
      }
    },
    {
      "cell_type": "code",
      "source": [
        "def print_gauss(it,x_new):\n",
        "  print(f\"{it}ª iteração: \", end=\"\")\n",
        "  for i in range(len(x_new)):\n",
        "    print(f\"{variaveis[i]}{it} = {x_new[i]} | \", end='')\n",
        "  print('')\n",
        "def gauss_jacobi(C, b, x0, prec=1e-50):\n",
        "  \"\"\"\n",
        "    C    -> coeficientes das equações\n",
        "    b    -> valores das igualdades das equações\n",
        "    x0   -> chute inicial\n",
        "    prec -> precisão\n",
        "  \"\"\"\n",
        "  n = len(C)\n",
        "  x = x0\n",
        "  diff = prec + 1\n",
        "  x_new = np.zeros(n)\n",
        "  i = 0\n",
        "  while diff > prec:\n",
        "    # loop dos novos resultados\n",
        "    for i in range(n):\n",
        "      s = 0\n",
        "      # loop de cada variável\n",
        "      for j in range(n):\n",
        "        if i != j:\n",
        "          # valores transferidos de um lado pro outro da equação\n",
        "          s += C[i][j] * x[j]\n",
        "      # novo resultado de cada variável\n",
        "      x_new[i] = (b[i] - s) / C[i][i]\n",
        "      diff = np.linalg.norm(x_new - x)\n",
        "      i += 1\n",
        "      # print_gauss(i, x_new)\n",
        "    return x_new"
      ],
      "metadata": {
        "id": "QKPe2-LL1O4h"
      },
      "execution_count": 53,
      "outputs": []
    },
    {
      "cell_type": "code",
      "source": [
        "C = np.array([[11.2, 21, 2.75], \n",
        "              [34.6, 16.7, 7], \n",
        "              [25.2 , 12.3, 71]])\n",
        "\n",
        "b = np.array([27 , 56, 81])\n",
        "x0 = np.array([1,0,0])\n",
        "gauss_jacobi(C, b, x0)"
      ],
      "metadata": {
        "id": "lKRORU2N6LD-",
        "outputId": "8205a202-0cd1-4818-8c7f-553fa464de08",
        "colab": {
          "base_uri": "https://localhost:8080/"
        }
      },
      "execution_count": 54,
      "outputs": [
        {
          "output_type": "execute_result",
          "data": {
            "text/plain": [
              "array([2.41071429, 1.28143713, 0.78591549])"
            ]
          },
          "metadata": {},
          "execution_count": 54
        }
      ]
    },
    {
      "cell_type": "markdown",
      "source": [
        "# Método Iterativo de Newton\n"
      ],
      "metadata": {
        "id": "87bfn2pAuz3f"
      }
    },
    {
      "cell_type": "code",
      "source": [
        "def print_newton(it,var, fv):\n",
        "  print(f\"-=-=-= {it}ª iteração: -=-=-=\")\n",
        "  print(f\"f1({var[0], var[1]}) = {fv[0]}\")\n",
        "  print(f\"f2({var[0], var[1]}) = {fv[1]}\")\n",
        "  for i in range(len(var)):\n",
        "    print(f\"{variaveis[i]}{it} = {var[i]} | \", end='')\n",
        "  print('')\n",
        "\n",
        "def iterativo_newton(f, J, x0, prec=1):\n",
        "  var = x0.copy()\n",
        "\n",
        "  i = 0\n",
        "  while True:\n",
        "    fv = f(var)\n",
        "    Jv = J(var)\n",
        "    print('-='*20)\n",
        "    xi = cramer(Jv, -fv)\n",
        "    var += xi\n",
        "    i += 1\n",
        "    print_newton(i, var, fv)  \n",
        "    if np.linalg.norm(xi) < prec:\n",
        "      break\n",
        "  return var\n"
      ],
      "metadata": {
        "id": "vn2ElpPCu2vm"
      },
      "execution_count": 94,
      "outputs": []
    },
    {
      "cell_type": "code",
      "source": [
        "def f(var):\n",
        "  f1 = var[0] + 2*var[1] - 3\n",
        "  f2 = 3* var[0]**2 + var[1]**2 - 7\n",
        "  return np.array([f1, f2], dtype=float)\n",
        "\n",
        "def J(var):\n",
        "  j11 = 1\n",
        "  j12 = 2\n",
        "  j21 = 6*var[0]\n",
        "  j22 = 2*var[1]\n",
        "  return np.array([[j11,j12], [j21,j22]], dtype=float)"
      ],
      "metadata": {
        "id": "G2_he1lO0TWN"
      },
      "execution_count": 96,
      "outputs": []
    },
    {
      "cell_type": "code",
      "source": [
        "x0 = np.array([1,1], dtype=float)\n",
        "x = iterativo_newton(f,J,x0)\n",
        "\n",
        "print('-='*20)\n",
        "\n",
        "print(f\"valores finais: {x}\")"
      ],
      "metadata": {
        "id": "0eNu9ndj2r6T",
        "outputId": "582b6d01-8f44-41a2-da80-438270e44cb8",
        "colab": {
          "base_uri": "https://localhost:8080/"
        }
      },
      "execution_count": 97,
      "outputs": [
        {
          "output_type": "stream",
          "name": "stdout",
          "text": [
            "-=-=-=-=-=-=-=-=-=-=-=-=-=-=-=-=-=-=-=-=\n",
            "D = -10.000000000000002\n",
            "Valores finais Cramer: x = -0.2999999999999999 | y = -0.2999999999999999 | \n",
            "-=-=-= 1ª iteração: -=-=-=\n",
            "f1((1.5999999999999999, 0.7000000000000002)) = 0.0\n",
            "f2((1.5999999999999999, 0.7000000000000002)) = -3.0\n",
            "x1 = 1.5999999999999999 | y1 = 0.7000000000000002 | \n",
            "-=-=-=-=-=-=-=-=-=-=-=-=-=-=-=-=-=-=-=-=\n",
            "valores finais: [1.6 0.7]\n"
          ]
        }
      ]
    },
    {
      "cell_type": "code",
      "source": [
        "var = 0.4065\n",
        "\n",
        "fd = 2 * math.pi * var - math.pi * var**2\n",
        "\n",
        "f = (math.pi * var**2) - (1/3 * math.pi * var**3) - 0.5\n",
        "\n",
        "x= 2.75 - (1.479 / -6.476)\n",
        "\n",
        "print(x)"
      ],
      "metadata": {
        "id": "ZfvIS3_HXLMc",
        "outputId": "f9ad3349-13d6-4b59-fa6d-c0fcbe3b721b",
        "colab": {
          "base_uri": "https://localhost:8080/"
        }
      },
      "execution_count": 36,
      "outputs": [
        {
          "output_type": "stream",
          "name": "stdout",
          "text": [
            "2.9783817171093268\n"
          ]
        }
      ]
    }
  ]
}