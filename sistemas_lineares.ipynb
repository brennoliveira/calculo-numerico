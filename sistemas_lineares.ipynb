{
  "nbformat": 4,
  "nbformat_minor": 0,
  "metadata": {
    "colab": {
      "provenance": [],
      "authorship_tag": "ABX9TyMdrO95vh45LNdui/xQ6D2W",
      "include_colab_link": true
    },
    "kernelspec": {
      "name": "python3",
      "display_name": "Python 3"
    },
    "language_info": {
      "name": "python"
    }
  },
  "cells": [
    {
      "cell_type": "markdown",
      "metadata": {
        "id": "view-in-github",
        "colab_type": "text"
      },
      "source": [
        "<a href=\"https://colab.research.google.com/github/brennoliveira/calculo-numerico/blob/colab/sistemas_lineares.ipynb\" target=\"_parent\"><img src=\"https://colab.research.google.com/assets/colab-badge.svg\" alt=\"Open In Colab\"/></a>"
      ]
    },
    {
      "cell_type": "code",
      "execution_count": 1,
      "metadata": {
        "id": "vV7HTdx6qC0R"
      },
      "outputs": [],
      "source": [
        "import math\n"
      ]
    },
    {
      "cell_type": "code",
      "source": [
        "def create_matrix(n_row, n_col, items):\n",
        "  mat = []\n",
        "  for i in range(n_row):\n",
        "    row = []\n",
        "    for j in range(n_col):\n",
        "      row.append(items[n_row * i + j])\n",
        "    mat.append(row)\n",
        "\n",
        "  return mat\n",
        "\n",
        "def aumentar_matriz(matriz):\n",
        "  for i in range(len(matriz)):\n",
        "    matriz[i].append(matriz[i][0])\n",
        "    matriz[i].append(matriz[i][1])\n",
        "  return matriz\n",
        "\n",
        "def print_matrix(matrix):\n",
        "  for i in range(len(matrix)):\n",
        "    print(f\"{matrix[i]}\")\n",
        "    \n",
        "items = [1,1,1,1,2,2,2,1,3]\n",
        "matriz = create_matrix(3,3, items)\n",
        "print_matrix(matriz)\n",
        "print(\"-=\"*20)\n",
        "mat = aumentar_matriz(matriz)\n",
        "print_matrix(mat)\n"
      ],
      "metadata": {
        "colab": {
          "base_uri": "https://localhost:8080/"
        },
        "id": "xLZ5XhPssUa9",
        "outputId": "1ea14857-f97a-41aa-b20a-4f62580650ad"
      },
      "execution_count": 22,
      "outputs": [
        {
          "output_type": "stream",
          "name": "stdout",
          "text": [
            "[1, 1, 1]\n",
            "[1, 2, 2]\n",
            "[2, 1, 3]\n",
            "-=-=-=-=-=-=-=-=-=-=-=-=-=-=-=-=-=-=-=-=\n",
            "[1, 1, 1, 1, 1]\n",
            "[1, 2, 2, 1, 2]\n",
            "[2, 1, 3, 2, 1]\n"
          ]
        }
      ]
    },
    {
      "cell_type": "code",
      "source": [
        "# def cramer(matriz):\n",
        "#   result = 0\n",
        "#   for i in range(len(matriz)):\n",
        "#     result +="
      ],
      "metadata": {
        "id": "T-5ERL-DsBCF"
      },
      "execution_count": 19,
      "outputs": []
    }
  ]
}