{
  "nbformat": 4,
  "nbformat_minor": 0,
  "metadata": {
    "colab": {
      "provenance": [],
      "authorship_tag": "ABX9TyOtvATFRhwrE0bnVmILwJte",
      "include_colab_link": true
    },
    "kernelspec": {
      "name": "python3",
      "display_name": "Python 3"
    },
    "language_info": {
      "name": "python"
    }
  },
  "cells": [
    {
      "cell_type": "markdown",
      "metadata": {
        "id": "view-in-github",
        "colab_type": "text"
      },
      "source": [
        "<a href=\"https://colab.research.google.com/github/brennoliveira/calculo-numerico/blob/colab/sistemas_lineares.ipynb\" target=\"_parent\"><img src=\"https://colab.research.google.com/assets/colab-badge.svg\" alt=\"Open In Colab\"/></a>"
      ]
    },
    {
      "cell_type": "code",
      "execution_count": 1,
      "metadata": {
        "id": "vV7HTdx6qC0R"
      },
      "outputs": [],
      "source": [
        "import math\n",
        "import numpy as np"
      ]
    },
    {
      "cell_type": "markdown",
      "source": [
        "#Matrizes\n"
      ],
      "metadata": {
        "id": "zXNA4ajt1HoB"
      }
    },
    {
      "cell_type": "code",
      "source": [
        "def create_matrix(n_row, n_col, items):\n",
        "  mat = []\n",
        "  for i in range(n_row):\n",
        "    row = []\n",
        "    for j in range(n_col):\n",
        "      row.append(items[n_row * i + j])\n",
        "    mat.append(row)\n",
        "\n",
        "  return mat\n",
        "\n",
        "def aumentar_matriz(matriz):\n",
        "  for i in range(len(matriz)):\n",
        "    matriz[i].append(matriz[i][0])\n",
        "    matriz[i].append(matriz[i][1])\n",
        "  return matriz\n",
        "\n",
        "def print_matrix(matrix):\n",
        "  for i in range(len(matrix)):\n",
        "    print(f\"{matrix[i]}\")\n",
        "    \n",
        "items = [1,1,1,1,2,2,2,1,3]\n",
        "matriz = create_matrix(3,3, items)\n",
        "print_matrix(matriz)\n",
        "print(\"-=\"*20)\n",
        "mat = aumentar_matriz(matriz)\n",
        "print_matrix(mat)\n"
      ],
      "metadata": {
        "colab": {
          "base_uri": "https://localhost:8080/"
        },
        "id": "xLZ5XhPssUa9",
        "outputId": "1ea14857-f97a-41aa-b20a-4f62580650ad"
      },
      "execution_count": null,
      "outputs": [
        {
          "output_type": "stream",
          "name": "stdout",
          "text": [
            "[1, 1, 1]\n",
            "[1, 2, 2]\n",
            "[2, 1, 3]\n",
            "-=-=-=-=-=-=-=-=-=-=-=-=-=-=-=-=-=-=-=-=\n",
            "[1, 1, 1, 1, 1]\n",
            "[1, 2, 2, 1, 2]\n",
            "[2, 1, 3, 2, 1]\n"
          ]
        }
      ]
    },
    {
      "cell_type": "markdown",
      "source": [
        "#Método de Cramer"
      ],
      "metadata": {
        "id": "wu_mplFK1M1a"
      }
    },
    {
      "cell_type": "code",
      "source": [
        "# def cramer(matriz):\n",
        "#   result = 0\n",
        "#   for i in range(len(matriz)):\n",
        "#     result +="
      ],
      "metadata": {
        "id": "T-5ERL-DsBCF"
      },
      "execution_count": null,
      "outputs": []
    },
    {
      "cell_type": "markdown",
      "source": [
        "#Método de Gauss-Jacobi"
      ],
      "metadata": {
        "id": "SeEOqW4x1QJ3"
      }
    },
    {
      "cell_type": "code",
      "source": [
        "def gauss_jacobi(C, I, x0, prec=1e-6):\n",
        "  \"\"\"\n",
        "    I    -> valores das igualdades das equações\n",
        "    C    -> coeficientes das equações\n",
        "    x0   -> chute inicial\n",
        "    prec -> precisão\n",
        "  \"\"\"\n",
        "  x = x0.copy()\n",
        "  diff = prec + 1\n",
        "  while diff > prec:\n",
        "    x_new = [0] * len(I)\n",
        "    # loop dos novos resultados\n",
        "    for i in range(len(I)):\n",
        "      s = 0\n",
        "      # loop de cada variável\n",
        "      for j in range(len(I)):\n",
        "        if i != j:\n",
        "          # valores transferidos de um lado pro outro da equação\n",
        "          s += C[i][j] * x[j]\n",
        "      # novo resultado de cada variável\n",
        "      x_new[i] = (I[i] - s) / C[i][i]\n",
        "      diff = max([abs(x_new[i] - x[i]) for i in range(len(I))])\n",
        "      x = x_new\n",
        "    return x"
      ],
      "metadata": {
        "id": "QKPe2-LL1O4h"
      },
      "execution_count": 8,
      "outputs": []
    },
    {
      "cell_type": "code",
      "source": [
        "A = [[80,0,30,10], [0,80,10,10], [16,20,60,72], [4,0,0,8]]\n",
        "b = [40,27,31,2]\n",
        "x0 = [0.5,0.2,0.2,0]\n",
        "\n",
        "x = gauss_jacobi(A, b, x0)\n",
        "\n",
        "print(x)"
      ],
      "metadata": {
        "id": "lKRORU2N6LD-",
        "outputId": "5c9c20a6-5d49-447d-df7b-0cb4b28fba67",
        "colab": {
          "base_uri": "https://localhost:8080/"
        }
      },
      "execution_count": 9,
      "outputs": [
        {
          "output_type": "stream",
          "name": "stdout",
          "text": [
            "0\n",
            "0\n",
            "0.0\n",
            "6.0\n",
            "0\n",
            "0.0\n",
            "0.0\n",
            "0.0\n",
            "0\n",
            "6.8\n",
            "13.55\n",
            "13.55\n",
            "0\n",
            "1.7\n",
            "1.7\n",
            "1.7\n",
            "[0.425, 0.3375, 0.29083333333333333, 0.037500000000000006]\n"
          ]
        }
      ]
    }
  ]
}