{
  "nbformat": 4,
  "nbformat_minor": 0,
  "metadata": {
    "colab": {
      "provenance": [],
      "authorship_tag": "ABX9TyMEJXFf+3WFeEx09SySuyQX",
      "include_colab_link": true
    },
    "kernelspec": {
      "name": "python3",
      "display_name": "Python 3"
    },
    "language_info": {
      "name": "python"
    }
  },
  "cells": [
    {
      "cell_type": "markdown",
      "metadata": {
        "id": "view-in-github",
        "colab_type": "text"
      },
      "source": [
        "<a href=\"https://colab.research.google.com/github/brennoliveira/calculo-numerico/blob/main/calculo_numerico.ipynb\" target=\"_parent\"><img src=\"https://colab.research.google.com/assets/colab-badge.svg\" alt=\"Open In Colab\"/></a>"
      ]
    },
    {
      "cell_type": "code",
      "source": [
        "import math"
      ],
      "metadata": {
        "id": "6X19Tdv8FJNO"
      },
      "execution_count": 5,
      "outputs": []
    },
    {
      "cell_type": "code",
      "source": [
        "def print_values(i, x, fx, fdx=False):\n",
        "  if fdx:\n",
        "    print(f\"{i}º valor: x = {x} -> f({x}) = {fx} | fd({x}) = {fdx}\")\n",
        "  else:\n",
        "    print(f\"{i}º valor: x = {x} -> f({x}) = {fx}\")"
      ],
      "metadata": {
        "id": "zDWmn2mr60oI"
      },
      "execution_count": 6,
      "outputs": []
    },
    {
      "cell_type": "code",
      "source": [
        "def bissecao(f, a, b, prec):\n",
        "  print(\"-=-=-=-=-=BISSEÇÃO-=-=-=-=-=\")\n",
        "  if f(a) * f(b) > 0:\n",
        "    raise ValueError(\"função não muda de sinal no intervalo\")\n",
        "  i = 0\n",
        "  while abs(f(b)) > prec and abs(f(a)) > prec:\n",
        "    i += 1\n",
        "    c = (a + b) / 2\n",
        "    if abs(f(c)) < prec:\n",
        "      print_values(i, c, f(c))\n",
        "      print(f\"iterações: {i}\")\n",
        "      return c\n",
        "    elif f(a) * f(c) < 0:\n",
        "      b = c\n",
        "    else:\n",
        "      a = c\n",
        "    print_values(i, c, f(c))\n",
        "  print(f\"iterações: {i}\")\n",
        "  return c"
      ],
      "metadata": {
        "id": "yaz8vyqaLEil"
      },
      "execution_count": 7,
      "outputs": []
    },
    {
      "cell_type": "code",
      "source": [
        "def falsa_posicao(f, a, b, prec):\n",
        "  print(\"-=-=-=-=-=FALSA POSIÇÃO-=-=-=-=-=\")\n",
        "  if f(a) * f(b) > 0:\n",
        "    raise ValueError(\"função não muda de sinal no intervalo\")\n",
        "  i = 0\n",
        "  fa = f(a)\n",
        "  fb = f(b)\n",
        "  while abs(fb) > prec and abs(fa) > prec:\n",
        "    i += 1\n",
        "    x = (a*fb - b*fa)/(fb - fa)\n",
        "    fx = f(x)\n",
        "    if abs(fx) < prec:\n",
        "      print_values(i, x, fx)\n",
        "      print(f\"iterações: {i}\")\n",
        "      return x\n",
        "    elif fa * fx < 0:\n",
        "      b = x\n",
        "      fb = fx\n",
        "    else:\n",
        "      a = x\n",
        "      fa = fx\n",
        "    print_values(i, x, fx)\n",
        "    \n",
        "  print(f\"iterações: {i}\")\n",
        "  return x"
      ],
      "metadata": {
        "id": "w9VAZaeQLyVV"
      },
      "execution_count": 8,
      "outputs": []
    },
    {
      "cell_type": "code",
      "source": [
        "def newton(f, fd, x, prec):\n",
        "  print(\"-=-=-=-=-=NEWTON-=-=-=-=-=\")\n",
        "  i = 0\n",
        "  while abs(f(x)) > prec:\n",
        "    i += 1\n",
        "    if fd(x) == 0:\n",
        "      raise ValueError(\"derivada nula\")\n",
        "    x = x - f(x) / fd(x)\n",
        "    print_values(i, x, f(x), fd(x))\n",
        "\n",
        "  print(f\"iterações: {i}\")\n",
        "  return x"
      ],
      "metadata": {
        "id": "4JMQFpcaM24n"
      },
      "execution_count": 9,
      "outputs": []
    },
    {
      "cell_type": "code",
      "source": [
        "def secante(f, x0, x1, prec):\n",
        "  print(\"-=-=-=-=-=SECANTE-=-=-=-=-=\")\n",
        "  i = 0\n",
        "  fx0 = f(x0)\n",
        "  fx1 = f(x1)\n",
        "  while abs(fx1) > prec:\n",
        "    i += 1\n",
        "    x2 = formula(x0, x1, fx0, fx1)\n",
        "    fx2 = f(x2)\n",
        "    x0, x1 = x1, x2\n",
        "    fx0, fx1 = fx1, fx2\n",
        "    print_values(i, x2, f(x2))\n",
        "  print(f\"iterações: {i}\")\n",
        "  return x2\n",
        "\n",
        "def formula(x0, x1, fx0, fx1):\n",
        "  return x1 - fx1 * (x1 - x0) / (fx1 - fx0)"
      ],
      "metadata": {
        "id": "A3TSbtC_NOl0"
      },
      "execution_count": 10,
      "outputs": []
    },
    {
      "cell_type": "code",
      "source": [
        "def f(x):\n",
        "  # função analisada\n",
        "  return (math.pi * x**2) - (1/3 * math.pi * x**3) - 0.5\n",
        "\n",
        "def fd(x):\n",
        "  # derivada da função analisada\n",
        "  return 2 * math.pi * x - math.pi * x**2\n"
      ],
      "metadata": {
        "id": "PyzAeKqPWOow"
      },
      "execution_count": 15,
      "outputs": []
    },
    {
      "cell_type": "code",
      "source": [
        "# TESTE\n",
        "x0 = 2.5\n",
        "x1 = 3\n",
        "prec = 0.0001\n",
        "\n",
        "raiz = bissecao(f, x0, x1, prec)\n",
        "print(f\"x = {raiz}\")\n",
        "print(\"*-\"*20)\n",
        "raiz = falsa_posicao(f, x0, x1, prec)\n",
        "print(f\"x = {raiz}\")\n",
        "print(\"*-\"*20)\n",
        "raiz = newton(f, fd, 2.75, prec)\n",
        "print(f\"x = {raiz}\")\n",
        "print(\"*-\"*20)\n",
        "raiz = secante(f, x0, x1, prec)\n",
        "print(f\"x = {raiz}\")\n",
        "\n"
      ],
      "metadata": {
        "colab": {
          "base_uri": "https://localhost:8080/"
        },
        "id": "JlqiQdRsOE2o",
        "outputId": "958f8b6f-40de-461e-f4d3-5247dcef22b8"
      },
      "execution_count": 19,
      "outputs": [
        {
          "output_type": "stream",
          "name": "stdout",
          "text": [
            "-=-=-=-=-=BISSEÇÃO-=-=-=-=-=\n",
            "1º valor: x = 2.75 -> f(2.75) = 1.4798578702310685\n",
            "2º valor: x = 2.875 -> f(2.875) = 0.5819677823886735\n",
            "3º valor: x = 2.9375 -> f(2.9375) = 0.06476059340656803\n",
            "4º valor: x = 2.96875 -> f(2.96875) = -0.21157965394441547\n",
            "5º valor: x = 2.953125 -> f(2.953125) = -0.07191150215575703\n",
            "6º valor: x = 2.9453125 -> f(2.9453125) = -0.003202445374416385\n",
            "7º valor: x = 2.94140625 -> f(2.94140625) = 0.03087213901260455\n",
            "8º valor: x = 2.943359375 -> f(2.943359375) = 0.013858136474915739\n",
            "9º valor: x = 2.9443359375 -> f(2.9443359375) = 0.005333670890042441\n",
            "10º valor: x = 2.94482421875 -> f(2.94482421875) = 0.0010670694584931084\n",
            "11º valor: x = 2.945068359375 -> f(2.945068359375) = -0.0010673237370788513\n",
            "12º valor: x = 2.9449462890625 -> f(2.9449462890625) = -3.6089787158744e-08\n",
            "iterações: 12\n",
            "x = 2.9449462890625\n",
            "*-*-*-*-*-*-*-*-*-*-*-*-*-*-*-*-*-*-*-*-\n",
            "-=-=-=-=-=FALSA POSIÇÃO-=-=-=-=-=\n",
            "1º valor: x = 2.9236056273158906 -> f(2.9236056273158906) = 0.18379758912584876\n",
            "2º valor: x = 2.94413962998775 -> f(2.94413962998775) = 0.007048184942870961\n",
            "3º valor: x = 2.9449161128359584 -> f(2.9449161128359584) = 0.0002637732376911117\n",
            "4º valor: x = 2.9449451568244287 -> f(2.9449451568244287) = 9.862464857235409e-06\n",
            "iterações: 4\n",
            "x = 2.9449451568244287\n",
            "*-*-*-*-*-*-*-*-*-*-*-*-*-*-*-*-*-*-*-*-\n",
            "-=-=-=-=-=NEWTON-=-=-=-=-=\n",
            "1º valor: x = 2.9783895225413035 -> f(2.9783895225413035) = -0.29924980718335803 | fd(2.9783895225413035) = -9.154679855650674\n",
            "2º valor: x = 2.9457013442650695 -> f(2.9457013442650695) = -0.006604570897881246 | fd(2.9457013442650695) = -8.75170342483933\n",
            "3º valor: x = 2.9449466830777244 -> f(2.9449466830777244) = -3.480758792306915e-06 | fd(2.9449466830777244) = -8.742479328487637\n",
            "iterações: 3\n",
            "x = 2.9449466830777244\n",
            "*-*-*-*-*-*-*-*-*-*-*-*-*-*-*-*-*-*-*-*-\n",
            "-=-=-=-=-=SECANTE-=-=-=-=-=\n",
            "1º valor: x = 2.9236056273158906 -> f(2.9236056273158906) = 0.18379758912584876\n",
            "2º valor: x = 2.94413962998775 -> f(2.94413962998775) = 0.007048184942870961\n",
            "3º valor: x = 2.9449584584817843 -> f(2.9449584584817843) = -0.00010642783261971545\n",
            "4º valor: x = 2.9449462780683024 -> f(2.9449462780683024) = 6.002670360771845e-08\n",
            "iterações: 4\n",
            "x = 2.9449462780683024\n"
          ]
        }
      ]
    }
  ]
}