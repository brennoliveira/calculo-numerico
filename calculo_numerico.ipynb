{
  "nbformat": 4,
  "nbformat_minor": 0,
  "metadata": {
    "colab": {
      "provenance": [],
      "authorship_tag": "ABX9TyNfdrh1gC+PwuDqmhu9JKi0",
      "include_colab_link": true
    },
    "kernelspec": {
      "name": "python3",
      "display_name": "Python 3"
    },
    "language_info": {
      "name": "python"
    }
  },
  "cells": [
    {
      "cell_type": "markdown",
      "metadata": {
        "id": "view-in-github",
        "colab_type": "text"
      },
      "source": [
        "<a href=\"https://colab.research.google.com/github/brennoliveira/calculo-numerico/blob/colab/calculo_numerico.ipynb\" target=\"_parent\"><img src=\"https://colab.research.google.com/assets/colab-badge.svg\" alt=\"Open In Colab\"/></a>"
      ]
    },
    {
      "cell_type": "code",
      "source": [
        "def bissecao(f, a, b, prec):\n",
        "  if f(a) * f(b) > 0:\n",
        "    raise ValueError(\"função não muda de sinal no intervalo\")\n",
        "  i = 0\n",
        "  while abs(b - a) > prec:\n",
        "    i += 1\n",
        "    c = (a + b) / 2\n",
        "    if abs(f(c)) < prec:\n",
        "      print(f\"{i}º valor: {x}\")\n",
        "      print(f\"iterações: {i}\")\n",
        "      return c\n",
        "    elif f(a) * f(c) < 0:\n",
        "      b = c\n",
        "    else:\n",
        "      a = c\n",
        "    print(f\"{i}º valor: {c}\")\n",
        "  print(f\"iterações: {i}\")\n",
        "  return c"
      ],
      "metadata": {
        "id": "yaz8vyqaLEil"
      },
      "execution_count": 55,
      "outputs": []
    },
    {
      "cell_type": "code",
      "source": [
        "def falsa_posicao(f, a, b, prec):\n",
        "  if f(a) * f(b) > 0:\n",
        "    raise ValueError(\"função não muda de sinal no intervalo\")\n",
        "  i = 0\n",
        "  fa = f(a)\n",
        "  fb = f(b)\n",
        "  while abs(b - a) > prec:\n",
        "    i += 1\n",
        "    x = (a * fb) - (b * fa) / (fb - fa)\n",
        "    fx = f(x)\n",
        "    if abs(fx) < prec:\n",
        "      print(f\"{i}º valor: {x}\")\n",
        "      print(f\"iterações: {i}\")\n",
        "      return x\n",
        "    elif fa * fx < 0:\n",
        "      b = x\n",
        "      fb = fx\n",
        "    else:\n",
        "      a = x\n",
        "      fa = fx\n",
        "    print(f\"{i}º valor: {x}\")\n",
        "    \n",
        "  print(f\"iterações: {i}\")\n",
        "  return x"
      ],
      "metadata": {
        "id": "w9VAZaeQLyVV"
      },
      "execution_count": 56,
      "outputs": []
    },
    {
      "cell_type": "code",
      "source": [
        "def newton(f, fd, x, prec):\n",
        "  i = 0\n",
        "  while abs(f(x)) > prec:\n",
        "    i += 1\n",
        "    if fd(x) == 0:\n",
        "      raise ValueError(\"derivada nula\")\n",
        "    x = x - f(x) / fd(x)\n",
        "    print(f\"{i}º valor: {x}\")\n",
        "\n",
        "    print(f\"iterações: {i}\")\n",
        "    return x"
      ],
      "metadata": {
        "id": "4JMQFpcaM24n"
      },
      "execution_count": 57,
      "outputs": []
    },
    {
      "cell_type": "code",
      "source": [
        "def secante(f, x0, x1, prec):\n",
        "  i = 0\n",
        "  fx0 = f(x0)\n",
        "  fx1 = f(x1)\n",
        "  x2 = formula(x0, x1, fx0, fx1)\n",
        "  while abs((x2 - x1) / 2) > prec:\n",
        "    i += 1\n",
        "    x0 = x1\n",
        "    x1 = x2\n",
        "    fx0 = fx1\n",
        "    fx1 = f(x1)\n",
        "    x2 = formula(x0, x1, fx0, fx1) \n",
        "    print(f\"{i}º valor: {x2}\")\n",
        "  print(f\"iterações: {i}\")\n",
        "  return x2\n",
        "\n",
        "def formula(x0, x1, fx0, fx1):\n",
        "  return x1 - fx1 * (x1 - x0) / (fx1 - fx0)"
      ],
      "metadata": {
        "id": "A3TSbtC_NOl0"
      },
      "execution_count": 58,
      "outputs": []
    },
    {
      "cell_type": "code",
      "source": [
        "def f(x):\n",
        "  # função analisada\n",
        "  return x**3 - 9*x + 3\n",
        "\n",
        "def fd(x):\n",
        "  # derivada da função analisada\n",
        "  return 3*x**2 - 9\n",
        "\n",
        "prec = 0.001"
      ],
      "metadata": {
        "id": "PyzAeKqPWOow"
      },
      "execution_count": 59,
      "outputs": []
    },
    {
      "cell_type": "code",
      "source": [
        "# TESTE\n",
        "\n",
        "raiz = bissecao(f, 0, 1, prec)\n",
        "print(raiz)\n",
        "print(\"*-\"*20)\n",
        "raiz = falsa_posicao(f, 0, 1, prec)\n",
        "print(raiz)\n",
        "print(\"*-\"*20)\n",
        "raiz = newton(f, fd, 0, prec)\n",
        "print(raiz)\n",
        "print(\"*-\"*20)\n",
        "raiz = secante(f, 0, 1, prec)\n",
        "print(raiz)\n",
        "\n"
      ],
      "metadata": {
        "colab": {
          "base_uri": "https://localhost:8080/"
        },
        "id": "JlqiQdRsOE2o",
        "outputId": "60d47fc1-fdae-4b00-ebb5-52973187572c"
      },
      "execution_count": 60,
      "outputs": [
        {
          "output_type": "stream",
          "name": "stdout",
          "text": [
            "1º valor: 0.5\n",
            "2º valor: 0.25\n",
            "3º valor: 0.375\n",
            "4º valor: 0.3125\n",
            "5º valor: 0.34375\n",
            "6º valor: 0.328125\n",
            "7º valor: 0.3359375\n",
            "8º valor: 0.33984375\n",
            "9º valor: 0.337890625\n",
            "10º valor: 0.3369140625\n",
            "iterações: 10\n",
            "0.3369140625\n",
            "*-*-*-*-*-*-*-*-*-*-*-*-*-*-*-*-*-*-*-*-\n",
            "1º valor: 0.375\n",
            "2º valor: 0.3386243386243386\n",
            "3º valor: 0.33763504551140067\n",
            "iterações: 3\n",
            "0.33763504551140067\n",
            "*-*-*-*-*-*-*-*-*-*-*-*-*-*-*-*-*-*-*-*-\n",
            "1º valor: 0.3333333333333333\n",
            "iterações: 1\n",
            "0.3333333333333333\n",
            "*-*-*-*-*-*-*-*-*-*-*-*-*-*-*-*-*-*-*-*-\n",
            "1º valor: 0.33194154488517746\n",
            "2º valor: 0.33763462072303707\n",
            "3º valor: 0.33760897287513775\n",
            "iterações: 3\n",
            "0.33760897287513775\n"
          ]
        }
      ]
    }
  ]
}