{
  "nbformat": 4,
  "nbformat_minor": 0,
  "metadata": {
    "colab": {
      "provenance": [],
      "authorship_tag": "ABX9TyMdqRmQA3tuucDWoRwGol7+",
      "include_colab_link": true
    },
    "kernelspec": {
      "name": "python3",
      "display_name": "Python 3"
    },
    "language_info": {
      "name": "python"
    }
  },
  "cells": [
    {
      "cell_type": "markdown",
      "metadata": {
        "id": "view-in-github",
        "colab_type": "text"
      },
      "source": [
        "<a href=\"https://colab.research.google.com/github/brennoliveira/calculo-numerico/blob/colab/calculo_numerico.ipynb\" target=\"_parent\"><img src=\"https://colab.research.google.com/assets/colab-badge.svg\" alt=\"Open In Colab\"/></a>"
      ]
    },
    {
      "cell_type": "code",
      "source": [
        "def print_values(i, x, fx, fdx=False):\n",
        "  if fdx:\n",
        "    print(f\"{i}º valor: x = {x} -> f({x}) = {fx} | fd({x}) = {fdx}\")\n",
        "  else:\n",
        "    print(f\"{i}º valor: x = {x} -> f({x}) = {fx}\")"
      ],
      "metadata": {
        "id": "zDWmn2mr60oI"
      },
      "execution_count": 30,
      "outputs": []
    },
    {
      "cell_type": "code",
      "source": [
        "def bissecao(f, a, b, prec):\n",
        "  print(\"-=-=-=-=-=BISSEÇÃO-=-=-=-=-=\")\n",
        "  if f(a) * f(b) > 0:\n",
        "    raise ValueError(\"função não muda de sinal no intervalo\")\n",
        "  i = 0\n",
        "  while abs(b - a) > prec:\n",
        "    i += 1\n",
        "    c = (a + b) / 2\n",
        "    if abs(f(c)) < prec:\n",
        "      print_values(i, c, f(c))\n",
        "      print(f\"iterações: {i}\")\n",
        "      return c\n",
        "    elif f(a) * f(c) < 0:\n",
        "      b = c\n",
        "    else:\n",
        "      a = c\n",
        "    print_values(i, c, f(c))\n",
        "  print(f\"iterações: {i}\")\n",
        "  return c"
      ],
      "metadata": {
        "id": "yaz8vyqaLEil"
      },
      "execution_count": 16,
      "outputs": []
    },
    {
      "cell_type": "code",
      "source": [
        "def falsa_posicao(f, a, b, prec):\n",
        "  print(\"-=-=-=-=-=FALSA POSIÇÃO-=-=-=-=-=\")\n",
        "  if f(a) * f(b) > 0:\n",
        "    raise ValueError(\"função não muda de sinal no intervalo\")\n",
        "  i = 0\n",
        "  fa = f(a)\n",
        "  fb = f(b)\n",
        "  while abs(b - a) > prec:\n",
        "    i += 1\n",
        "    x = (a * fb) - (b * fa) / (fb - fa)\n",
        "    fx = f(x)\n",
        "    if abs(fx) < prec:\n",
        "      print_values(i, x, fx)\n",
        "      print(f\"iterações: {i}\")\n",
        "      return x\n",
        "    elif fa * fx < 0:\n",
        "      b = x\n",
        "      fb = fx\n",
        "    else:\n",
        "      a = x\n",
        "      fa = fx\n",
        "    print_values(i, x, fx)\n",
        "    \n",
        "  print(f\"iterações: {i}\")\n",
        "  return x"
      ],
      "metadata": {
        "id": "w9VAZaeQLyVV"
      },
      "execution_count": 17,
      "outputs": []
    },
    {
      "cell_type": "code",
      "source": [
        "def newton(f, fd, x, prec):\n",
        "  print(\"-=-=-=-=-=NEWTON-=-=-=-=-=\")\n",
        "  i = 0\n",
        "  while abs(f(x)) > prec:\n",
        "    i += 1\n",
        "    if fd(x) == 0:\n",
        "      raise ValueError(\"derivada nula\")\n",
        "    x = x - f(x) / fd(x)\n",
        "    print_values(i, x, f(x), fd(x))\n",
        "\n",
        "  print(f\"iterações: {i}\")\n",
        "  return x"
      ],
      "metadata": {
        "id": "4JMQFpcaM24n"
      },
      "execution_count": 24,
      "outputs": []
    },
    {
      "cell_type": "code",
      "source": [
        "def secante(f, x0, x1, prec):\n",
        "  print(\"-=-=-=-=-=SECANTE-=-=-=-=-=\")\n",
        "  i = 0\n",
        "  fx0 = f(x0)\n",
        "  fx1 = f(x1)\n",
        "  x2 = formula(x0, x1, fx0, fx1)\n",
        "  while abs((x2 - x1) / 2) > prec:\n",
        "    i += 1\n",
        "    x0 = x1\n",
        "    x1 = x2\n",
        "    fx0 = fx1\n",
        "    fx1 = f(x1)\n",
        "    x2 = formula(x0, x1, fx0, fx1) \n",
        "    print_values(i, x2, f(x2))\n",
        "  print(f\"iterações: {i}\")\n",
        "  return x2\n",
        "\n",
        "def formula(x0, x1, fx0, fx1):\n",
        "  return x1 - fx1 * (x1 - x0) / (fx1 - fx0)"
      ],
      "metadata": {
        "id": "A3TSbtC_NOl0"
      },
      "execution_count": 19,
      "outputs": []
    },
    {
      "cell_type": "code",
      "source": [
        "def f(x):\n",
        "  # função analisada\n",
        "  return x**3 - 9*x + 3\n",
        "\n",
        "def fd(x):\n",
        "  # derivada da função analisada\n",
        "  return 3*x**2 - 9\n",
        "\n",
        "prec = 0.001"
      ],
      "metadata": {
        "id": "PyzAeKqPWOow"
      },
      "execution_count": 20,
      "outputs": []
    },
    {
      "cell_type": "code",
      "source": [
        "# TESTE\n",
        "\n",
        "raiz = bissecao(f, 0, 1, prec)\n",
        "print(f\"x = {raiz}\")\n",
        "print(\"*-\"*20)\n",
        "raiz = falsa_posicao(f, 0, 1, prec)\n",
        "print(f\"x = {raiz}\")\n",
        "print(\"*-\"*20)\n",
        "raiz = newton(f, fd, 0, prec)\n",
        "print(f\"x = {raiz}\")\n",
        "print(\"*-\"*20)\n",
        "raiz = secante(f, 0, 1, prec)\n",
        "print(f\"x = {raiz}\")\n",
        "\n"
      ],
      "metadata": {
        "colab": {
          "base_uri": "https://localhost:8080/"
        },
        "id": "JlqiQdRsOE2o",
        "outputId": "b4a6e849-548a-45cb-9319-4c90d49f68c2"
      },
      "execution_count": 31,
      "outputs": [
        {
          "output_type": "stream",
          "name": "stdout",
          "text": [
            "-=-=-=-=-=BISSEÇÃO-=-=-=-=-=\n",
            "1º valor: x = 0.5 -> f(0.5) = -1.375\n",
            "2º valor: x = 0.25 -> f(0.25) = 0.765625\n",
            "3º valor: x = 0.375 -> f(0.375) = -0.322265625\n",
            "4º valor: x = 0.3125 -> f(0.3125) = 0.218017578125\n",
            "5º valor: x = 0.34375 -> f(0.34375) = -0.053131103515625\n",
            "6º valor: x = 0.328125 -> f(0.328125) = 0.08220291137695312\n",
            "7º valor: x = 0.3359375 -> f(0.3359375) = 0.01447439193725586\n",
            "8º valor: x = 0.33984375 -> f(0.33984375) = -0.019343912601470947\n",
            "9º valor: x = 0.337890625 -> f(0.337890625) = -0.0024386271834373474\n",
            "10º valor: x = 0.3369140625 -> f(0.3369140625) = 0.006016918458044529\n",
            "iterações: 10\n",
            "x = 0.3369140625\n",
            "*-*-*-*-*-*-*-*-*-*-*-*-*-*-*-*-*-*-*-*-\n",
            "-=-=-=-=-=FALSA POSIÇÃO-=-=-=-=-=\n",
            "1º valor: x = 0.375 -> f(0.375) = -0.322265625\n",
            "2º valor: x = 0.3386243386243386 -> f(0.3386243386243386) = -0.008790199294384404\n",
            "3º valor: x = 0.33763504551140067 -> f(0.33763504551140067) = -0.0002258841765376829\n",
            "iterações: 3\n",
            "x = 0.33763504551140067\n",
            "*-*-*-*-*-*-*-*-*-*-*-*-*-*-*-*-*-*-*-*-\n",
            "-=-=-=-=-=NEWTON-=-=-=-=-=\n",
            "1º valor: x = 0.3333333333333333 -> f(0.3333333333333333) = 0.0370370370370372 | fd(0.3333333333333333) = -8.666666666666666\n",
            "2º valor: x = 0.33760683760683763 -> f(0.33760683760683763) = 1.834088509511389e-05 | fd(0.33760683760683763) = -8.658064869603331\n",
            "iterações: 2\n",
            "x = 0.33760683760683763\n",
            "*-*-*-*-*-*-*-*-*-*-*-*-*-*-*-*-*-*-*-*-\n",
            "-=-=-=-=-=SECANTE-=-=-=-=-=\n",
            "1º valor: x = 0.33194154488517746 -> f(0.33194154488517746) = 0.04910113796680715\n",
            "2º valor: x = 0.33763462072303707 -> f(0.33763462072303707) = -0.00022220635542025136\n",
            "3º valor: x = 0.33760897287513775 -> f(0.33760897287513775) = -1.4640174361701952e-07\n",
            "iterações: 3\n",
            "x = 0.33760897287513775\n"
          ]
        }
      ]
    }
  ]
}