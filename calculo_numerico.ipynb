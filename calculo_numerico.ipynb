{
  "nbformat": 4,
  "nbformat_minor": 0,
  "metadata": {
    "colab": {
      "provenance": [],
      "authorship_tag": "ABX9TyNptIXYQ0HLpwMzR7o6JEyx",
      "include_colab_link": true
    },
    "kernelspec": {
      "name": "python3",
      "display_name": "Python 3"
    },
    "language_info": {
      "name": "python"
    }
  },
  "cells": [
    {
      "cell_type": "markdown",
      "metadata": {
        "id": "view-in-github",
        "colab_type": "text"
      },
      "source": [
        "<a href=\"https://colab.research.google.com/github/brennoliveira/calculo-numerico/blob/colab/calculo_numerico.ipynb\" target=\"_parent\"><img src=\"https://colab.research.google.com/assets/colab-badge.svg\" alt=\"Open In Colab\"/></a>"
      ]
    },
    {
      "cell_type": "code",
      "execution_count": 37,
      "metadata": {
        "id": "3Aluf72SKvBh"
      },
      "outputs": [],
      "source": [
        "def f(x):\n",
        "  # função analisada\n",
        "  return x**3 - 9*x + 3\n",
        "\n",
        "def fd(x):\n",
        "  # derivada da função analisada\n",
        "  return 3*x**2 - 9\n",
        "\n",
        "prec = 0.001"
      ]
    },
    {
      "cell_type": "code",
      "source": [
        "def bissecao(f, a, b, prec):\n",
        "  if f(a) * f(b) > 0:\n",
        "    raise ValueError(\"função não muda de sinal no intervalo\")\n",
        "  i = 0\n",
        "  while abs(b - a) > prec:\n",
        "    i += 1\n",
        "    c = (a + b) / 2\n",
        "    if abs(f(c)) < prec:\n",
        "      print(f\"iterações: {i}\")\n",
        "      return c\n",
        "    elif f(a) * f(c) < 0:\n",
        "      b = c\n",
        "    else:\n",
        "      a = c\n",
        "    print(f\"{i}º valor: {c}\")\n",
        "  print(f\"iterações: {i}\")\n",
        "  return c"
      ],
      "metadata": {
        "id": "yaz8vyqaLEil"
      },
      "execution_count": 38,
      "outputs": []
    },
    {
      "cell_type": "code",
      "source": [
        "def falsa_posicao(f, a, b, prec):\n",
        "  if f(a) * f(b) > 0:\n",
        "    raise ValueError(\"função não muda de sinal no intervalo\")\n",
        "  i = 0\n",
        "  fa = f(a)\n",
        "  fb = f(b)\n",
        "  while abs(b - a) > prec:\n",
        "    i += 1\n",
        "    x = (a * fb) - (b * fa) / (fb - fa)\n",
        "    fx = f(x)\n",
        "    if abs(fx) < prec:\n",
        "      print(f\"iterações: {i}\")\n",
        "      return x\n",
        "    elif fa * fx < 0:\n",
        "      b = x\n",
        "      fb = fx\n",
        "    else:\n",
        "      a = x\n",
        "      fa = fx\n",
        "    print(f\"{i}º valor: {x}\")\n",
        "    \n",
        "  print(f\"iterações: {i}\")\n",
        "  return x"
      ],
      "metadata": {
        "id": "w9VAZaeQLyVV"
      },
      "execution_count": 39,
      "outputs": []
    },
    {
      "cell_type": "code",
      "source": [
        "def newton(f, fd, x, prec):\n",
        "  i = 0\n",
        "  while abs(f(x)) > prec:\n",
        "    i += 1\n",
        "    if fd(x) == 0:\n",
        "      raise ValueError(\"derivada nula\")\n",
        "    x = x - f(x) / fd(x)\n",
        "    print(f\"{i}º valor: {x}\")\n",
        "\n",
        "    print(f\"iterações: {i}\")\n",
        "    return x"
      ],
      "metadata": {
        "id": "4JMQFpcaM24n"
      },
      "execution_count": 40,
      "outputs": []
    },
    {
      "cell_type": "code",
      "source": [
        "def secante(f, x0, x1, prec):\n",
        "  i = 0\n",
        "  fx0 = f(x0)\n",
        "  fx1 = f(x1)\n",
        "  x2 = formula(x0, x1, fx0, fx1)\n",
        "  while abs((x2 - x1) / 2) > prec:\n",
        "    i += 1\n",
        "    x0 = x1\n",
        "    x1 = x2\n",
        "    fx0 = fx1\n",
        "    fx1 = f(x1)\n",
        "    x2 = formula(x0, x1, fx0, fx1) \n",
        "    print(f\"{i}º valor: {x2}\")\n",
        "  print(f\"iterações: {i}\")\n",
        "  return x2\n",
        "\n",
        "def formula(x0, x1, fx0, fx1):\n",
        "  return x1 - fx1 * (x1 - x0) / (fx1 - fx0)"
      ],
      "metadata": {
        "id": "A3TSbtC_NOl0"
      },
      "execution_count": 41,
      "outputs": []
    },
    {
      "cell_type": "code",
      "source": [
        "# TESTE\n",
        "\n",
        "raiz = bissecao(f, 0, 1, prec)\n",
        "print(raiz)\n",
        "print(\"*-\"*20)\n",
        "raiz = falsa_posicao(f, 0, 1, prec)\n",
        "print(raiz)\n",
        "print(\"*-\"*20)\n",
        "raiz = newton(f, fd, 0, prec)\n",
        "print(raiz)\n",
        "print(\"*-\"*20)\n",
        "raiz = secante(f, 0, 1, prec)\n",
        "print(raiz)\n",
        "\n"
      ],
      "metadata": {
        "colab": {
          "base_uri": "https://localhost:8080/",
          "height": 356
        },
        "id": "JlqiQdRsOE2o",
        "outputId": "cf91f77d-aeaa-4a5c-e03e-9851ca9e95cb"
      },
      "execution_count": 42,
      "outputs": [
        {
          "output_type": "error",
          "ename": "ValueError",
          "evalue": "ignored",
          "traceback": [
            "\u001b[0;31m---------------------------------------------------------------------------\u001b[0m",
            "\u001b[0;31mValueError\u001b[0m                                Traceback (most recent call last)",
            "\u001b[0;32m<ipython-input-42-df0f2ce21046>\u001b[0m in \u001b[0;36m<module>\u001b[0;34m\u001b[0m\n\u001b[1;32m      1\u001b[0m \u001b[0;31m# TESTE\u001b[0m\u001b[0;34m\u001b[0m\u001b[0;34m\u001b[0m\u001b[0;34m\u001b[0m\u001b[0m\n\u001b[1;32m      2\u001b[0m \u001b[0;34m\u001b[0m\u001b[0m\n\u001b[0;32m----> 3\u001b[0;31m \u001b[0mraiz\u001b[0m \u001b[0;34m=\u001b[0m \u001b[0mbissecao\u001b[0m\u001b[0;34m(\u001b[0m\u001b[0mf\u001b[0m\u001b[0;34m,\u001b[0m \u001b[0;36m0\u001b[0m\u001b[0;34m,\u001b[0m \u001b[0;36m1\u001b[0m\u001b[0;34m,\u001b[0m \u001b[0mprec\u001b[0m\u001b[0;34m)\u001b[0m\u001b[0;34m\u001b[0m\u001b[0;34m\u001b[0m\u001b[0m\n\u001b[0m\u001b[1;32m      4\u001b[0m \u001b[0mprint\u001b[0m\u001b[0;34m(\u001b[0m\u001b[0mraiz\u001b[0m\u001b[0;34m)\u001b[0m\u001b[0;34m\u001b[0m\u001b[0;34m\u001b[0m\u001b[0m\n\u001b[1;32m      5\u001b[0m \u001b[0mprint\u001b[0m\u001b[0;34m(\u001b[0m\u001b[0;34m\"*-\"\u001b[0m\u001b[0;34m*\u001b[0m\u001b[0;36m20\u001b[0m\u001b[0;34m)\u001b[0m\u001b[0;34m\u001b[0m\u001b[0;34m\u001b[0m\u001b[0m\n",
            "\u001b[0;32m<ipython-input-38-e870a014c574>\u001b[0m in \u001b[0;36mbissecao\u001b[0;34m(f, a, b, prec)\u001b[0m\n\u001b[1;32m      1\u001b[0m \u001b[0;32mdef\u001b[0m \u001b[0mbissecao\u001b[0m\u001b[0;34m(\u001b[0m\u001b[0mf\u001b[0m\u001b[0;34m,\u001b[0m \u001b[0ma\u001b[0m\u001b[0;34m,\u001b[0m \u001b[0mb\u001b[0m\u001b[0;34m,\u001b[0m \u001b[0mprec\u001b[0m\u001b[0;34m)\u001b[0m\u001b[0;34m:\u001b[0m\u001b[0;34m\u001b[0m\u001b[0;34m\u001b[0m\u001b[0m\n\u001b[1;32m      2\u001b[0m   \u001b[0;32mif\u001b[0m \u001b[0mf\u001b[0m\u001b[0;34m(\u001b[0m\u001b[0ma\u001b[0m\u001b[0;34m)\u001b[0m \u001b[0;34m*\u001b[0m \u001b[0mf\u001b[0m\u001b[0;34m(\u001b[0m\u001b[0mb\u001b[0m\u001b[0;34m)\u001b[0m \u001b[0;34m>\u001b[0m \u001b[0;36m0\u001b[0m\u001b[0;34m:\u001b[0m\u001b[0;34m\u001b[0m\u001b[0;34m\u001b[0m\u001b[0m\n\u001b[0;32m----> 3\u001b[0;31m     \u001b[0;32mraise\u001b[0m \u001b[0mValueError\u001b[0m\u001b[0;34m(\u001b[0m\u001b[0;34m\"função não muda de sinal no intervalo\"\u001b[0m\u001b[0;34m)\u001b[0m\u001b[0;34m\u001b[0m\u001b[0;34m\u001b[0m\u001b[0m\n\u001b[0m\u001b[1;32m      4\u001b[0m   \u001b[0mi\u001b[0m \u001b[0;34m=\u001b[0m \u001b[0;36m0\u001b[0m\u001b[0;34m\u001b[0m\u001b[0;34m\u001b[0m\u001b[0m\n\u001b[1;32m      5\u001b[0m   \u001b[0;32mwhile\u001b[0m \u001b[0mabs\u001b[0m\u001b[0;34m(\u001b[0m\u001b[0mb\u001b[0m \u001b[0;34m-\u001b[0m \u001b[0ma\u001b[0m\u001b[0;34m)\u001b[0m \u001b[0;34m>\u001b[0m \u001b[0mprec\u001b[0m\u001b[0;34m:\u001b[0m\u001b[0;34m\u001b[0m\u001b[0;34m\u001b[0m\u001b[0m\n",
            "\u001b[0;31mValueError\u001b[0m: função não muda de sinal no intervalo"
          ]
        }
      ]
    }
  ]
}