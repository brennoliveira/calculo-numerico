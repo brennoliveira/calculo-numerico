{
  "nbformat": 4,
  "nbformat_minor": 0,
  "metadata": {
    "colab": {
      "provenance": [],
      "authorship_tag": "ABX9TyNR6Cf55cfk24zlpN8gDG1V",
      "include_colab_link": true
    },
    "kernelspec": {
      "name": "python3",
      "display_name": "Python 3"
    },
    "language_info": {
      "name": "python"
    }
  },
  "cells": [
    {
      "cell_type": "markdown",
      "metadata": {
        "id": "view-in-github",
        "colab_type": "text"
      },
      "source": [
        "<a href=\"https://colab.research.google.com/github/brennoliveira/calculo-numerico/blob/main/Prova_2_unid.ipynb\" target=\"_parent\"><img src=\"https://colab.research.google.com/assets/colab-badge.svg\" alt=\"Open In Colab\"/></a>"
      ]
    },
    {
      "cell_type": "code",
      "execution_count": null,
      "metadata": {
        "id": "Z1IPLNji2J0n"
      },
      "outputs": [],
      "source": []
    },
    {
      "cell_type": "markdown",
      "source": [
        "#Lagrange\n"
      ],
      "metadata": {
        "id": "vp49y-Ee2VLg"
      }
    },
    {
      "cell_type": "code",
      "source": [
        "def lagrange_interpolation(x, y, interpo):\n",
        "    \"\"\"\n",
        "        x: Lista com os pontos x\n",
        "        y: Lista com os pontos y\n",
        "        interpo: Valor x para interpolar\n",
        "    \"\"\"\n",
        "    n = len(x)\n",
        "    interp = 0.0\n",
        "\n",
        "    for i in range(n):\n",
        "        term = y[i]\n",
        "        for j in range(n):\n",
        "            if i != j:\n",
        "                term *= (interpo - x[j]) / (x[i] - x[j])\n",
        "        interp += term\n",
        "\n",
        "    return interp"
      ],
      "metadata": {
        "id": "4NvmxRAS2TWf"
      },
      "execution_count": null,
      "outputs": []
    },
    {
      "cell_type": "code",
      "source": [
        "x = [4, 6.5, 11.25, 12.85]\n",
        "y = [10.56, 14.55, 6.16, 9.5]\n",
        "result = lagrange_interpolation(x, y, 8.76)\n",
        "\n",
        "print(f\"o valor do campo para uma distância de 8,76 cm no métodos de Lagrange é = {result}\")"
      ],
      "metadata": {
        "colab": {
          "base_uri": "https://localhost:8080/"
        },
        "id": "1MEYYKXv2uHf",
        "outputId": "ddde495e-5b53-44ee-badb-6a0d13b6b806"
      },
      "execution_count": null,
      "outputs": [
        {
          "output_type": "stream",
          "name": "stdout",
          "text": [
            "o valor do campo para uma distância de 8,76 cm no métodos de Lagrange é = 9.927326747791874\n"
          ]
        }
      ]
    },
    {
      "cell_type": "code",
      "source": [
        "import numpy as np\n",
        "def polinomial(x, y, grau, interpo):\n",
        "\n",
        "  coefs = np.polyfit(x, y, 3)\n",
        "  r = 0.0\n",
        "  for i in range(len(coefs)):\n",
        "    r += coefs[i] * (interpo **(grau - i))\n",
        "  return r\n",
        "\n",
        "\n",
        "\n",
        "x = [4, 6.5, 11.25, 12.85]\n",
        "y = [10.56, 14.55, 6.16, 9.5]\n",
        "result = polinomial(x, y, 3, 8.76)\n",
        "\n",
        "print(f\"O valor do campo para uma distância de 8,76 cm no método Polinomial é {result}\")"
      ],
      "metadata": {
        "colab": {
          "base_uri": "https://localhost:8080/"
        },
        "id": "0gn2NtJM9_YS",
        "outputId": "5504baa8-2993-4e90-f569-6858801a1c05"
      },
      "execution_count": null,
      "outputs": [
        {
          "output_type": "stream",
          "name": "stdout",
          "text": [
            "O valor do campo para uma distância de 8,76 cm no método Polinomial é 9.927326747791938\n"
          ]
        }
      ]
    },
    {
      "cell_type": "markdown",
      "source": [
        "#Trapézio"
      ],
      "metadata": {
        "id": "gFEKqfhZEj4h"
      }
    },
    {
      "cell_type": "code",
      "source": [
        "def trapezoidal_rule(f, a, b, n):\n",
        "    \"\"\"\n",
        "        f (function): A função a ser integrada.\n",
        "        a (float): O limite inferior do intervalo de integração.\n",
        "        b (float): O limite superior do intervalo de integração.\n",
        "        n (int): O número de subintervalos a serem usados na integração.\n",
        "    \"\"\"\n",
        "    h = (b - a) / n  # Tamanho de cada subintervalo\n",
        "    integral = 0.5 * (f(a) + f(b))  # Valor inicial da integral\n",
        "\n",
        "    for i in range(1, n):\n",
        "        x = a + i * h  # Pontos dentro de cada subintervalo\n",
        "        integral += f(x)\n",
        "\n",
        "    integral *= h  # Multiplica pela largura do subintervalo\n",
        "\n",
        "    return integral\n"
      ],
      "metadata": {
        "id": "YByaL40rEmEi"
      },
      "execution_count": null,
      "outputs": []
    },
    {
      "cell_type": "code",
      "source": [
        "import math\n",
        "def f(x):\n",
        "  if x == 0:\n",
        "    return 0\n",
        "  return 71 / x * math.sqrt(x)\n",
        "\n",
        "result = trapezoidal_rule(f, 0, 20, 100)\n",
        "\n",
        "print(f\"O resultado da Integral pelo métodos do Trapézio é: {result}\")"
      ],
      "metadata": {
        "colab": {
          "base_uri": "https://localhost:8080/"
        },
        "id": "mlMbrHK2OUQn",
        "outputId": "8424572f-c6cc-4bf6-9983-5a07973c32e2"
      },
      "execution_count": null,
      "outputs": [
        {
          "output_type": "stream",
          "name": "stdout",
          "text": [
            "O resultado da Integral pelo métodos do Trapézio é: 588.672564879481\n"
          ]
        }
      ]
    }
  ]
}