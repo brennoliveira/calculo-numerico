{
  "nbformat": 4,
  "nbformat_minor": 0,
  "metadata": {
    "colab": {
      "provenance": [],
      "authorship_tag": "ABX9TyORWWFTMKO+TfyIPKee4z1n",
      "include_colab_link": true
    },
    "kernelspec": {
      "name": "python3",
      "display_name": "Python 3"
    },
    "language_info": {
      "name": "python"
    }
  },
  "cells": [
    {
      "cell_type": "markdown",
      "metadata": {
        "id": "view-in-github",
        "colab_type": "text"
      },
      "source": [
        "<a href=\"https://colab.research.google.com/github/brennoliveira/calculo-numerico/blob/main/2unid.ipynb\" target=\"_parent\"><img src=\"https://colab.research.google.com/assets/colab-badge.svg\" alt=\"Open In Colab\"/></a>"
      ]
    },
    {
      "cell_type": "code",
      "execution_count": null,
      "metadata": {
        "id": "Z1IPLNji2J0n"
      },
      "outputs": [],
      "source": []
    },
    {
      "cell_type": "markdown",
      "source": [
        "#Lagrange\n"
      ],
      "metadata": {
        "id": "vp49y-Ee2VLg"
      }
    },
    {
      "cell_type": "code",
      "source": [
        "def lagrange_interpolation(x, y, interpo):\n",
        "    \"\"\"\n",
        "        x: Lista com os pontos x \n",
        "        y: Lista com os pontos y \n",
        "        interpo: Valor x para interpolar\n",
        "    \"\"\"\n",
        "    n = len(x)\n",
        "    interp = 0.0\n",
        "\n",
        "    for i in range(n):\n",
        "        term = y[i]\n",
        "        for j in range(n):\n",
        "            if i != j:\n",
        "                term *= (interpo - x[j]) / (x[i] - x[j])\n",
        "        interp += term\n",
        "\n",
        "    return interp"
      ],
      "metadata": {
        "id": "4NvmxRAS2TWf"
      },
      "execution_count": 1,
      "outputs": []
    },
    {
      "cell_type": "code",
      "source": [
        "x = [1990,1995,2000,2005]\n",
        "y = [1.25,1.27,1.3,1.45]\n",
        "result = lagrange_interpolation(x, y, 2003)\n",
        "\n",
        "print(result)"
      ],
      "metadata": {
        "colab": {
          "base_uri": "https://localhost:8080/"
        },
        "id": "1MEYYKXv2uHf",
        "outputId": "5232f816-4764-4eaf-de39-7c6e846f2155"
      },
      "execution_count": 2,
      "outputs": [
        {
          "output_type": "stream",
          "name": "stdout",
          "text": [
            "1.3685600000000004\n"
          ]
        }
      ]
    },
    {
      "cell_type": "markdown",
      "source": [
        "#Trapézio"
      ],
      "metadata": {
        "id": "gFEKqfhZEj4h"
      }
    },
    {
      "cell_type": "code",
      "source": [
        "def trapezoidal_rule(f, a, b, n):\n",
        "    \"\"\"\n",
        "        f (function): A função a ser integrada.\n",
        "        a (float): O limite inferior do intervalo de integração.\n",
        "        b (float): O limite superior do intervalo de integração.\n",
        "        n (int): O número de subintervalos a serem usados na integração.\n",
        "    \"\"\"\n",
        "    h = (b - a) / n  # Tamanho de cada subintervalo\n",
        "    integral = 0.5 * (f(a) + f(b))  # Valor inicial da integral\n",
        "\n",
        "    for i in range(1, n):\n",
        "        x = a + i * h  # Pontos dentro de cada subintervalo\n",
        "        integral += f(x)\n",
        "\n",
        "    integral *= h  # Multiplica pela largura do subintervalo\n",
        "\n",
        "    return integral\n"
      ],
      "metadata": {
        "id": "YByaL40rEmEi"
      },
      "execution_count": 5,
      "outputs": []
    },
    {
      "cell_type": "code",
      "source": [
        "def f(x):\n",
        "    return 1 / (x * x**(1/2)) * 10\n",
        "\n",
        "result = trapezoidal_rule(f, 5, 10, 4)\n",
        "\n",
        "print(result)"
      ],
      "metadata": {
        "colab": {
          "base_uri": "https://localhost:8080/"
        },
        "id": "mlMbrHK2OUQn",
        "outputId": "076870b2-4e0f-464c-a480-b2c72e03b489"
      },
      "execution_count": 7,
      "outputs": [
        {
          "output_type": "stream",
          "name": "stdout",
          "text": [
            "2.6481852560019514\n"
          ]
        }
      ]
    },
    {
      "cell_type": "markdown",
      "source": [
        "#1/3 de Simpson"
      ],
      "metadata": {
        "id": "DXkAeBWSOVgz"
      }
    },
    {
      "cell_type": "code",
      "source": [
        "def simpsons_rule(f, a, b, n):\n",
        "    \"\"\"\n",
        "        f (function): A função a ser integrada.\n",
        "        a (float): O limite inferior do intervalo de integração.\n",
        "        b (float): O limite superior do intervalo de integração.\n",
        "        n (int): O número de subintervalos a serem usados na integração.\n",
        "            Deve ser um número par.\n",
        "    \"\"\"\n",
        "    if n % 2 != 0:\n",
        "        raise ValueError(\"O número de subintervalos deve ser um número par.\")\n",
        "\n",
        "    h = (b - a) / n  # Tamanho de cada subintervalo\n",
        "    integral = f(a) + f(b)  # Valor inicial da integral\n",
        "\n",
        "    for i in range(1, n):\n",
        "        x = a + i * h  # Pontos dentro de cada subintervalo\n",
        "        if i % 2 == 0:\n",
        "            integral += 2 * f(x)\n",
        "        else:\n",
        "            integral += 4 * f(x)\n",
        "\n",
        "    integral *= h / 3  # Multiplica pelo fator de 1/3\n",
        "\n",
        "    return integral"
      ],
      "metadata": {
        "id": "S37aQO69OY4Y"
      },
      "execution_count": 4,
      "outputs": []
    },
    {
      "cell_type": "code",
      "source": [
        "def f(x):\n",
        "    return 1 / (x * x**(1/2)) * 10\n",
        "\n",
        "result = simpsons_rule(f, 5, 10, 4)\n",
        "\n",
        "print(result)"
      ],
      "metadata": {
        "colab": {
          "base_uri": "https://localhost:8080/"
        },
        "id": "8KCl_3E8ZepF",
        "outputId": "beb9b47f-5f5e-4e37-d9a4-1759c98ab866"
      },
      "execution_count": 9,
      "outputs": [
        {
          "output_type": "stream",
          "name": "stdout",
          "text": [
            "2.6207536962788307\n"
          ]
        }
      ]
    }
  ]
}